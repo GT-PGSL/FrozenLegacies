{
  "cells": [
    {
      "cell_type": "markdown",
      "metadata": {
        "id": "72tZMQ3J9qf4"
      },
      "source": [
        "\n",
        "\n",
        "<img src=\"https://raw.githubusercontent.com/GT-PGSL/FrozenLegacies/main/Demo/logo-combine.png\" alt=\"Frozen Legacies Logo\" width=\"220\" align=\"right\"/>\n",
        "\n",
        "# 🧊 Frozen Legacies: Antarctic Ice Radar Demo\n",
        "\n",
        "\n",
        "\n",
        "\n",
        "---\n",
        "\n",
        "Welcome, explorers!  \n",
        "This interactive notebook lets you analyze real radar data from Antarctica to measure ice thickness—just like polar scientists do.\n",
        "\n",
        "\n",
        "**What you'll do:**\n",
        "- 🛰️ Load and visualize a radargram (a kind of \"ice X-ray\")\n",
        "- 🎯 Calibrate the radar using a timing mark (pip)\n",
        "- 📈 Detect the ice surface and bedrock echoes\n",
        "- 🧮 Calculate ice thickness and see it on the image\n",
        "- 💾 Save and share your results\n",
        "\n",
        "<img src=\"https://raw.githubusercontent.com/GT-PGSL/FrozenLegacies/main/Demo/radar-cartoon-1.png\" alt=\"Radar Sounding Cartoon\" width=\"820\" align=\"center\"/>"
      ]
    },
    {
      "cell_type": "markdown",
      "metadata": {
        "id": "HdfOjmsF-Hg5"
      },
      "source": [
        "# SECTION 1: SETUP ENVIRONMENT"
      ]
    },
    {
      "cell_type": "code",
      "execution_count": null,
      "metadata": {
        "colab": {
          "base_uri": "https://localhost:8080/",
          "height": 0
        },
        "id": "HEfpivSfq1zM",
        "outputId": "0abbde2b-f272-4018-aac4-c060e523e4c8"
      },
      "outputs": [],
      "source": [
        "# Mount Google Drive\n",
        "from google.colab import drive\n",
        "\n",
        "drive.mount(\"/content/drive\")\n",
        "\n",
        "# Install required packages\n",
        "!pip install numpy matplotlib scikit-image tifffile opencv-python ipywidgets ipympl --quiet\n",
        "\n",
        "%matplotlib inline\n",
        "from ipywidgets import interact\n",
        "import sys\n",
        "from pathlib import Path\n",
        "import numpy as np\n",
        "import matplotlib.pyplot as plt\n",
        "from pathlib import Path\n",
        "import json\n",
        "import os\n",
        "import sys\n",
        "import matplotlib.pyplot as plt\n",
        "import warnings\n",
        "\n",
        "# Configure environment\n",
        "plt.rcParams[\"font.sans-serif\"] = [\"DejaVu Sans\"]\n",
        "plt.rcParams[\"font.family\"] = \"sans-serif\"\n",
        "warnings.filterwarnings(\n",
        "    \"ignore\", category=UserWarning, module=\"matplotlib.font_manager\"\n",
        ")\n"
      ]
    },
    {
      "cell_type": "markdown",
      "metadata": {
        "id": "wmOIfTH6-pG2"
      },
      "source": [
        "# SECTION 2: LOAD OUR Z-SCOPE PROCESSOR CODE"
      ]
    },
    {
      "cell_type": "code",
      "execution_count": null,
      "metadata": {
        "colab": {
          "base_uri": "https://localhost:8080/",
          "height": 0
        },
        "id": "3_GXo9CN-zr8",
        "outputId": "1bfa6027-261f-4a86-96c8-73df8951b246"
      },
      "outputs": [],
      "source": [
        "# Clone the repository with our processing code\n",
        "!git clone https://github.com/GT-PGSL/FrozenLegacies.git\n",
        "\n",
        "# Add our code to Python's search path\n",
        "sys.path.append(str(Path.cwd() / \"FrozenLegacies/Z_Scope_Processing\"))\n",
        "\n",
        "# Import our custom radar processing tools\n",
        "from zscope_processor import ZScopeProcessor\n",
        "from functions.image_utils import load_and_preprocess_image"
      ]
    },
    {
      "cell_type": "markdown",
      "metadata": {
        "id": "qNp8OGLu-8PZ"
      },
      "source": [
        "# SECTION 3: LOAD RADAR DATA"
      ]
    },
    {
      "cell_type": "markdown",
      "metadata": {
        "id": "phiUkgm5JiqK"
      },
      "source": [
        "## 1. Load and View the Radargram\n",
        "\n",
        "> **What is a radargram?**  \n",
        "> It's a special image made by bouncing radar waves off the ice and bedrock.  \n",
        "> The top bright line is the ice surface, the bottom is the bedrock.  \n",
        "> The distance between them tells us how thick the ice is!\n",
        "\n",
        "Let's load the radargram and see what it looks like."
      ]
    },
    {
      "cell_type": "code",
      "execution_count": null,
      "metadata": {
        "colab": {
          "base_uri": "https://localhost:8080/",
          "height": 703
        },
        "id": "aFNOsOwDzzCT",
        "outputId": "e6289e82-bdf3-4592-a8a0-a953c68833c8"
      },
      "outputs": [],
      "source": [
        "# Load our example radar image (118MB Antarctic ice scan)\n",
        "image_path = \"./FrozenLegacies/Demo/demo.tiff\"\n",
        "radar_image = load_and_preprocess_image(image_path, {})\n",
        "\n",
        "# Check if image loaded correctly\n",
        "if radar_image is None:\n",
        "    print(\"Error: Could not load radar image. Please check file path.\")\n",
        "else:\n",
        "    print(\n",
        "        f\"Loaded radargram: {radar_image.shape[1]} columns × {radar_image.shape[0]} depth points\"\n",
        "    )\n",
        "\n",
        "# Visualize the raw radar data\n",
        "plt.figure(figsize=(12, 6))\n",
        "plt.imshow(radar_image, cmap=\"gray\", aspect=\"auto\")\n",
        "plt.title(\"Antarctic Ice Radar Scan\")\n",
        "plt.xlabel(\"Distance Along Flight Path (columns)\")\n",
        "plt.ylabel(\"Ice Depth (rows)\")\n",
        "plt.colorbar(label=\"Radar Signal Strength\")\n",
        "plt.show()\n"
      ]
    },
    {
      "cell_type": "markdown",
      "metadata": {
        "id": "7VguA1RlGEOH"
      },
      "source": [
        "## 🧊 Educational Note: What Are You Seeing?\n",
        "\n",
        "> **This is a radargram, a special kind of \"ice X-ray\" scientists use to study Antarctica!**\n",
        "\n",
        "- **Cyan line**: Traces the ice surface detected by the radar.\n",
        "- **Green line**: Follows the bedrock underneath the ice.\n",
        "- **Labels**: Show the average depth for each layer.\n",
        "- **Ice thickness**: The distance between the surface and bedrock lines.\n",
        "\n",
        "**Try this:**\n",
        "- Change the calibration point and rerun the analysis to see how the results change!\n",
        "- Zoom in on different parts of the radargram to explore ice features.\n",
        "\n",
        "---\n",
        "\n",
        "### Why does this matter?\n",
        "- Measuring ice thickness helps scientists predict sea-level rise.\n",
        "- Radargrams reveal hidden layers and features inside the ice.\n",
        "- This is real data from Antarctica—you're doing real science!\n",
        "\n",
        "---"
      ]
    },
    {
      "cell_type": "markdown",
      "metadata": {
        "id": "jZJWnR1G_RWc"
      },
      "source": [
        "# SECTION 4: CALIBRATION\n"
      ]
    },
    {
      "cell_type": "code",
      "execution_count": null,
      "metadata": {
        "colab": {
          "base_uri": "https://localhost:8080/",
          "height": 190,
          "referenced_widgets": [
            "4b15325a71dd4059a12caa962483284b",
            "c5d023af14e0403b90974a735f07e59b",
            "22da433fa5c94f52848100f7be0821e3",
            "475fc08cdb8a48fe9eafdf279ee53690",
            "4362929ea0bf47ba90d9e1a0217e222f",
            "d972783547c64662b8c2ef73cb11c6a5",
            "12618b3f5463488bb65bb1c961d039db"
          ]
        },
        "id": "_GR5MVm10SDF",
        "outputId": "fc41100c-b134-4b9c-d0c1-5a4c35012c57"
      },
      "outputs": [],
      "source": [
        "# Interactive calibration tool\n",
        "from ipywidgets import interact\n",
        "\n",
        "\n",
        "@interact(pip_location=(0, radar_image.shape[1], 100))\n",
        "def select_calibration_point(pip_location):\n",
        "    \"\"\"\n",
        "    HOW CALIBRATION WORKS:\n",
        "    Radar instruments send timed pulses. We need to find the calibration pip\n",
        "    (small timing marks) to convert pixels to real-world units.\n",
        "\n",
        "    INSTRUCTIONS:\n",
        "    1. Move the slider until the red line aligns with the vertical calibration marks\n",
        "    2. Look for small, evenly spaced horizontal ticks on the right side\n",
        "    \"\"\"\n",
        "    plt.figure(figsize=(12, 6))\n",
        "    plt.imshow(radar_image, cmap=\"gray\")\n",
        "    plt.axvline(pip_location, color=\"red\", linestyle=\"--\", linewidth=2)\n",
        "    plt.title(f\"Calibration Point Selection: X = {pip_location}\")\n",
        "    plt.show()\n",
        "    return pip_location\n"
      ]
    },
    {
      "cell_type": "markdown",
      "metadata": {
        "id": "mqA_spYvJzKB"
      },
      "source": [
        "## 2. Calibrate the Radargram\n",
        "\n",
        "> **Why calibrate?**  \n",
        "> Calibration helps us turn pixel distances into real-world distances (meters).  \n",
        "> Move the slider to select the calibration mark (pip), then run the next cell.\n",
        "\n",
        "---"
      ]
    },
    {
      "cell_type": "code",
      "execution_count": null,
      "metadata": {
        "id": "X3cg50uXDp-f"
      },
      "outputs": [],
      "source": [
        "# After selecting with slider:\n",
        "calibration_x = 1800  # <<< REPLACE WITH YOUR SELECTED VALUE"
      ]
    },
    {
      "cell_type": "markdown",
      "metadata": {
        "id": "SzCz0Q20_pSS"
      },
      "source": [
        "# SECTION 5: ICE THICKNESS ANALYSIS"
      ]
    },
    {
      "cell_type": "markdown",
      "metadata": {
        "id": "knKskvRbJ7yf"
      },
      "source": [
        "## 3. Analyze and Visualize Ice Thickness\n",
        "\n",
        "> **What do the lines mean?**\n",
        "> - **Dark green line:** Detected ice surface\n",
        "> - **Dark pink line:** Detected bedrock\n",
        "> - **Labels:** Show the depth of each, and the ice thickness in meters\n",
        "\n",
        "Try changing the calibration and rerun to see what happens!"
      ]
    },
    {
      "cell_type": "code",
      "execution_count": null,
      "metadata": {
        "colab": {
          "base_uri": "https://localhost:8080/",
          "height": 6909
        },
        "id": "LgdVLZ40_ukj",
        "outputId": "b8fc5907-fe38-4e6a-9dea-d902b3d94839"
      },
      "outputs": [],
      "source": [
        "# Initialize processing engine\n",
        "processor = ZScopeProcessor(\n",
        "    config_path=\"config/default_config.json\",\n",
        "    physics_path=\"config/physical_constants.json\",\n",
        ")\n",
        "\n",
        "# Create output directory\n",
        "output_dir = \"results\"\n",
        "Path(output_dir).mkdir(parents=True, exist_ok=True)\n",
        "\n",
        "# Run full processing pipeline\n",
        "processing_successful = processor.process_image(\n",
        "    image_path,\n",
        "    output_dir,\n",
        "    calibration_x,  # Uses your selected calibration point\n",
        ")\n"
      ]
    },
    {
      "cell_type": "markdown",
      "metadata": {
        "id": "Yz4EcCtN_z6N"
      },
      "source": [
        "# SECTION 6: RESULTS VISUALIZATION"
      ]
    },
    {
      "cell_type": "code",
      "execution_count": null,
      "metadata": {
        "colab": {
          "base_uri": "https://localhost:8080/",
          "height": 3588
        },
        "id": "742wlpJd0wTl",
        "outputId": "ae4089ee-8536-4ba5-9d83-86fd3bf39871"
      },
      "outputs": [],
      "source": [
        "if processing_successful:\n",
        "    print(\"\\nSUCCESS: Processing complete! Results:\")\n",
        "    # Display key findings\n",
        "    print(\n",
        "        f\"- Ice surface detected at ~{np.nanmean(processor.detected_surface_y_abs):.0f} pixels depth\"\n",
        "    )\n",
        "    print(\n",
        "        f\"- Bedrock detected at ~{np.nanmean(processor.detected_bed_y_abs):.0f} pixels depth\"\n",
        "    )\n",
        "    mean_thickness_pixels = np.nanmean(\n",
        "        processor.detected_bed_y_abs - processor.detected_surface_y_abs\n",
        "    )\n",
        "    print(f\"- Estimated ice thickness: {mean_thickness_pixels:.0f} pixels\")\n",
        "\n",
        "    # --- Plotting: Ensure lines and labels are correct in both inline and saved plots ---\n",
        "    ax = processor.calibrated_ax\n",
        "    fig = processor.calibrated_fig\n",
        "\n",
        "    # Plot surface echo line and label\n",
        "    if processor.detected_surface_y_abs is not None and np.any(\n",
        "        np.isfinite(processor.detected_surface_y_abs)\n",
        "    ):\n",
        "        surface_y = processor.detected_surface_y_abs - processor.data_top_abs\n",
        "        valid = np.isfinite(surface_y)\n",
        "        ax.plot(\n",
        "            np.arange(len(surface_y))[valid],\n",
        "            surface_y[valid],\n",
        "            color=\"#117733\",\n",
        "            linestyle=\"-\",\n",
        "            linewidth=1.5,\n",
        "            label=\"Surface Echo\",\n",
        "            zorder=10,\n",
        "        )\n",
        "\n",
        "    # Plot bed echo line and label\n",
        "    if processor.detected_bed_y_abs is not None and np.any(\n",
        "        np.isfinite(processor.detected_bed_y_abs)\n",
        "    ):\n",
        "        bed_y = processor.detected_bed_y_abs - processor.data_top_abs\n",
        "        valid = np.isfinite(bed_y)\n",
        "        ax.plot(\n",
        "            np.arange(len(bed_y))[valid],\n",
        "            bed_y[valid],\n",
        "            color=\"#CC6677\",\n",
        "            linestyle=\"-\",\n",
        "            linewidth=1.5,\n",
        "            label=\"Bed Echo\",\n",
        "            zorder=10,\n",
        "        )\n",
        "\n",
        "    # Add legend (labels will match line colors)\n",
        "    ax.legend(loc=\"upper right\", fontsize=\"small\")\n",
        "\n",
        "    # Show the figure inline\n",
        "    fig.tight_layout()\n",
        "    fig.show()\n",
        "\n",
        "    # Save the output with all overlays\n",
        "    output_path = Path(output_dir) / \"processed_radargram.png\"\n",
        "    fig.savefig(output_path, dpi=200, bbox_inches=\"tight\")\n",
        "    print(f\"\\nRESULTS SAVED TO: {output_path}\")\n",
        "\n",
        "else:\n",
        "    print(\"Processing failed. Check error messages above.\")\n"
      ]
    },
    {
      "cell_type": "markdown",
      "metadata": {
        "id": "A_2zVj6eKIjv"
      },
      "source": [
        "# FINAL SECTION\n",
        "\n",
        "CONGRATULATIONS! You've completed the Antarctic ice analysis.\n",
        "\n",
        "## WHAT YOU ACCOMPLISHED:\n",
        "\n",
        "- **You loaded and analyzed real Antarctic radar data!**\n",
        "- **You measured the ice thickness using science and code.**\n",
        "- **You visualized your results with labeled lines and colors.**\n",
        "\n",
        "> **Why does this matter?**  \n",
        "> Understanding ice thickness helps scientists predict sea-level rise and study Earth's climate history.\n",
        "\n",
        "---\n",
        "\n",
        "### Next Steps\n",
        "\n",
        "- Try analyzing a different radargram from the Frozen Legacies project.\n",
        "- Change the calibration and see how your results change.\n",
        "- Ask your teacher how radar is used in other fields!\n",
        "\n",
        "---\n"
      ]
    },
    {
      "cell_type": "markdown",
      "metadata": {
        "id": "EYlH4tMAKNh_"
      },
      "source": []
    }
  ],
  "metadata": {
    "colab": {
      "collapsed_sections": [
        "HdfOjmsF-Hg5",
        "wmOIfTH6-pG2"
      ],
      "provenance": []
    },
    "kernelspec": {
      "display_name": "Python 3",
      "name": "python3"
    },
    "language_info": {
      "name": "python"
    },
    "widgets": {
      "application/vnd.jupyter.widget-state+json": {
        "12618b3f5463488bb65bb1c961d039db": {
          "model_module": "@jupyter-widgets/base",
          "model_module_version": "1.2.0",
          "model_name": "LayoutModel",
          "state": {
            "_model_module": "@jupyter-widgets/base",
            "_model_module_version": "1.2.0",
            "_model_name": "LayoutModel",
            "_view_count": null,
            "_view_module": "@jupyter-widgets/base",
            "_view_module_version": "1.2.0",
            "_view_name": "LayoutView",
            "align_content": null,
            "align_items": null,
            "align_self": null,
            "border": null,
            "bottom": null,
            "display": null,
            "flex": null,
            "flex_flow": null,
            "grid_area": null,
            "grid_auto_columns": null,
            "grid_auto_flow": null,
            "grid_auto_rows": null,
            "grid_column": null,
            "grid_gap": null,
            "grid_row": null,
            "grid_template_areas": null,
            "grid_template_columns": null,
            "grid_template_rows": null,
            "height": null,
            "justify_content": null,
            "justify_items": null,
            "left": null,
            "margin": null,
            "max_height": null,
            "max_width": null,
            "min_height": null,
            "min_width": null,
            "object_fit": null,
            "object_position": null,
            "order": null,
            "overflow": null,
            "overflow_x": null,
            "overflow_y": null,
            "padding": null,
            "right": null,
            "top": null,
            "visibility": null,
            "width": null
          }
        },
        "22da433fa5c94f52848100f7be0821e3": {
          "model_module": "@jupyter-widgets/output",
          "model_module_version": "1.0.0",
          "model_name": "OutputModel",
          "state": {
            "_dom_classes": [],
            "_model_module": "@jupyter-widgets/output",
            "_model_module_version": "1.0.0",
            "_model_name": "OutputModel",
            "_view_count": null,
            "_view_module": "@jupyter-widgets/output",
            "_view_module_version": "1.0.0",
            "_view_name": "OutputView",
            "layout": "IPY_MODEL_12618b3f5463488bb65bb1c961d039db",
            "msg_id": "",
            "outputs": [
              {
                "data": {
                  "image/png": "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\n",
                  "text/plain": "<Figure size 1200x600 with 1 Axes>"
                },
                "metadata": {},
                "output_type": "display_data"
              },
              {
                "data": {
                  "text/plain": "18900"
                },
                "metadata": {},
                "output_type": "display_data"
              }
            ]
          }
        },
        "4362929ea0bf47ba90d9e1a0217e222f": {
          "model_module": "@jupyter-widgets/base",
          "model_module_version": "1.2.0",
          "model_name": "LayoutModel",
          "state": {
            "_model_module": "@jupyter-widgets/base",
            "_model_module_version": "1.2.0",
            "_model_name": "LayoutModel",
            "_view_count": null,
            "_view_module": "@jupyter-widgets/base",
            "_view_module_version": "1.2.0",
            "_view_name": "LayoutView",
            "align_content": null,
            "align_items": null,
            "align_self": null,
            "border": null,
            "bottom": null,
            "display": null,
            "flex": null,
            "flex_flow": null,
            "grid_area": null,
            "grid_auto_columns": null,
            "grid_auto_flow": null,
            "grid_auto_rows": null,
            "grid_column": null,
            "grid_gap": null,
            "grid_row": null,
            "grid_template_areas": null,
            "grid_template_columns": null,
            "grid_template_rows": null,
            "height": null,
            "justify_content": null,
            "justify_items": null,
            "left": null,
            "margin": null,
            "max_height": null,
            "max_width": null,
            "min_height": null,
            "min_width": null,
            "object_fit": null,
            "object_position": null,
            "order": null,
            "overflow": null,
            "overflow_x": null,
            "overflow_y": null,
            "padding": null,
            "right": null,
            "top": null,
            "visibility": null,
            "width": null
          }
        },
        "475fc08cdb8a48fe9eafdf279ee53690": {
          "model_module": "@jupyter-widgets/base",
          "model_module_version": "1.2.0",
          "model_name": "LayoutModel",
          "state": {
            "_model_module": "@jupyter-widgets/base",
            "_model_module_version": "1.2.0",
            "_model_name": "LayoutModel",
            "_view_count": null,
            "_view_module": "@jupyter-widgets/base",
            "_view_module_version": "1.2.0",
            "_view_name": "LayoutView",
            "align_content": null,
            "align_items": null,
            "align_self": null,
            "border": null,
            "bottom": null,
            "display": null,
            "flex": null,
            "flex_flow": null,
            "grid_area": null,
            "grid_auto_columns": null,
            "grid_auto_flow": null,
            "grid_auto_rows": null,
            "grid_column": null,
            "grid_gap": null,
            "grid_row": null,
            "grid_template_areas": null,
            "grid_template_columns": null,
            "grid_template_rows": null,
            "height": null,
            "justify_content": null,
            "justify_items": null,
            "left": null,
            "margin": null,
            "max_height": null,
            "max_width": null,
            "min_height": null,
            "min_width": null,
            "object_fit": null,
            "object_position": null,
            "order": null,
            "overflow": null,
            "overflow_x": null,
            "overflow_y": null,
            "padding": null,
            "right": null,
            "top": null,
            "visibility": null,
            "width": null
          }
        },
        "4b15325a71dd4059a12caa962483284b": {
          "model_module": "@jupyter-widgets/controls",
          "model_module_version": "1.5.0",
          "model_name": "VBoxModel",
          "state": {
            "_dom_classes": [
              "widget-interact"
            ],
            "_model_module": "@jupyter-widgets/controls",
            "_model_module_version": "1.5.0",
            "_model_name": "VBoxModel",
            "_view_count": null,
            "_view_module": "@jupyter-widgets/controls",
            "_view_module_version": "1.5.0",
            "_view_name": "VBoxView",
            "box_style": "",
            "children": [
              "IPY_MODEL_c5d023af14e0403b90974a735f07e59b",
              "IPY_MODEL_22da433fa5c94f52848100f7be0821e3"
            ],
            "layout": "IPY_MODEL_475fc08cdb8a48fe9eafdf279ee53690"
          }
        },
        "c5d023af14e0403b90974a735f07e59b": {
          "model_module": "@jupyter-widgets/controls",
          "model_module_version": "1.5.0",
          "model_name": "IntSliderModel",
          "state": {
            "_dom_classes": [],
            "_model_module": "@jupyter-widgets/controls",
            "_model_module_version": "1.5.0",
            "_model_name": "IntSliderModel",
            "_view_count": null,
            "_view_module": "@jupyter-widgets/controls",
            "_view_module_version": "1.5.0",
            "_view_name": "IntSliderView",
            "continuous_update": true,
            "description": "pip_location",
            "description_tooltip": null,
            "disabled": false,
            "layout": "IPY_MODEL_4362929ea0bf47ba90d9e1a0217e222f",
            "max": 37989,
            "min": 0,
            "orientation": "horizontal",
            "readout": true,
            "readout_format": "d",
            "step": 100,
            "style": "IPY_MODEL_d972783547c64662b8c2ef73cb11c6a5",
            "value": 18900
          }
        },
        "d972783547c64662b8c2ef73cb11c6a5": {
          "model_module": "@jupyter-widgets/controls",
          "model_module_version": "1.5.0",
          "model_name": "SliderStyleModel",
          "state": {
            "_model_module": "@jupyter-widgets/controls",
            "_model_module_version": "1.5.0",
            "_model_name": "SliderStyleModel",
            "_view_count": null,
            "_view_module": "@jupyter-widgets/base",
            "_view_module_version": "1.2.0",
            "_view_name": "StyleView",
            "description_width": "",
            "handle_color": null
          }
        }
      }
    }
  },
  "nbformat": 4,
  "nbformat_minor": 0
}