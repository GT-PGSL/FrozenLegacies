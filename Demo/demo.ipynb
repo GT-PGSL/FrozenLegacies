{
 "cells": [
  {
   "cell_type": "markdown",
   "id": "024c0a5d",
   "metadata": {},
   "source": [
    "# Z-Scope Radargram Processing Demo\n",
    "\n",
    "Welcome to the Z-Scope Radargram Processing Demo!  \n",
    "Explore the world of Antarctic ice using real radar data.\n",
    "\n",
    "## What You’ll Do\n",
    "\n",
    "- **Load** a radargram image\n",
    "- **Visualize** the data\n",
    "- **Detect** key features (surface and bed)\n",
    "- **Calibrate** the radargram for scientific analysis\n",
    "\n",
    "Ready to start?  \n",
    "Run the code cells below!\n"
   ]
  },
  {
   "cell_type": "markdown",
   "id": "649dbb7e",
   "metadata": {},
   "source": [
    "### 1. Setup and Dependencies\n",
    "First, let's clone the project repository and install the required Python packages."
   ]
  },
  {
   "cell_type": "code",
   "execution_count": 3,
   "id": "1b01bcbc",
   "metadata": {},
   "outputs": [
    {
     "name": "stdout",
     "output_type": "stream",
     "text": [
      "[Errno 2] No such file or directory: 'Projects/FrozenLegacies/Demo'\n",
      "/Users/winniechu/Documents/GitHub/Projects/FrozenLegacies\n",
      "\u001b[31mERROR: Could not open requirements file: [Errno 2] No such file or directory: 'requirements.txt'\u001b[0m\u001b[31m\n",
      "\u001b[0m"
     ]
    },
    {
     "ename": "ModuleNotFoundError",
     "evalue": "No module named 'numpy'",
     "output_type": "error",
     "traceback": [
      "\u001b[0;31m---------------------------------------------------------------------------\u001b[0m",
      "\u001b[0;31mModuleNotFoundError\u001b[0m                       Traceback (most recent call last)",
      "Cell \u001b[0;32mIn[3], line 9\u001b[0m\n\u001b[1;32m      6\u001b[0m get_ipython()\u001b[38;5;241m.\u001b[39msystem(\u001b[38;5;124m'\u001b[39m\u001b[38;5;124mpip install -r requirements.txt\u001b[39m\u001b[38;5;124m'\u001b[39m)\n\u001b[1;32m      8\u001b[0m \u001b[38;5;66;03m# Import libraries\u001b[39;00m\n\u001b[0;32m----> 9\u001b[0m \u001b[38;5;28;01mimport\u001b[39;00m \u001b[38;5;21;01mnumpy\u001b[39;00m \u001b[38;5;28;01mas\u001b[39;00m \u001b[38;5;21;01mnp\u001b[39;00m\n\u001b[1;32m     10\u001b[0m \u001b[38;5;28;01mimport\u001b[39;00m \u001b[38;5;21;01mmatplotlib\u001b[39;00m\u001b[38;5;21;01m.\u001b[39;00m\u001b[38;5;21;01mpyplot\u001b[39;00m \u001b[38;5;28;01mas\u001b[39;00m \u001b[38;5;21;01mplt\u001b[39;00m\n\u001b[1;32m     11\u001b[0m \u001b[38;5;28;01mfrom\u001b[39;00m \u001b[38;5;21;01mpathlib\u001b[39;00m \u001b[38;5;28;01mimport\u001b[39;00m Path\n",
      "\u001b[0;31mModuleNotFoundError\u001b[0m: No module named 'numpy'"
     ]
    }
   ],
   "source": [
    "# Clone the project repository\n",
    "# !git clone https://github.com/GT-PGSL/Projects.git\n",
    "%cd Projects/FrozenLegacies/Demo\n",
    "\n",
    "# Install dependencies\n",
    "!pip install -r requirements.txt  \n",
    "\n",
    "# Import libraries\n",
    "import numpy as np\n",
    "import matplotlib.pyplot as plt\n",
    "from pathlib import Path\n",
    "import json\n",
    "import os\n",
    "import sys\n",
    "\n",
    "# Import processor\n",
    "from zscope_processor import ZScopeProcessor\n",
    "from functions.image_utils import load_and_preprocess_image"
   ]
  },
  {
   "cell_type": "markdown",
   "id": "01cb29e2",
   "metadata": {},
   "source": [
    "### 2. Load the Radargram Data\n",
    "Let’s load the example TIFF file (demo.tiff), which is now available in your repository."
   ]
  },
  {
   "cell_type": "code",
   "execution_count": null,
   "id": "9ee1ecea",
   "metadata": {},
   "outputs": [],
   "source": [
    "# Path to the radargram\n",
    "image_path = \"demo.tiff\"\n",
    "print(f\"Loading radargram: {image_path}\")\n",
    "\n",
    "# Load and preprocess the image\n",
    "image_np = load_and_preprocess_image(image_path, {})\n",
    "if image_np is None:\n",
    "    print(\"Error: Could not load image.\")\n",
    "    sys.exit(1)\n",
    "\n",
    "print(f\"Image shape: {image_np.shape} (rows x columns)\")\n"
   ]
  }
 ],
 "metadata": {
  "kernelspec": {
   "display_name": "Python 3",
   "language": "python",
   "name": "python3"
  },
  "language_info": {
   "codemirror_mode": {
    "name": "ipython",
    "version": 3
   },
   "file_extension": ".py",
   "mimetype": "text/x-python",
   "name": "python",
   "nbconvert_exporter": "python",
   "pygments_lexer": "ipython3",
   "version": "3.11.10"
  }
 },
 "nbformat": 4,
 "nbformat_minor": 5
}
